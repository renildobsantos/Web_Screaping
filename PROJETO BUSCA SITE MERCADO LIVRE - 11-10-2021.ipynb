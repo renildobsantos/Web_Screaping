{
 "cells": [
  {
   "cell_type": "markdown",
   "id": "db3be54e",
   "metadata": {},
   "source": [
    "## BUSCA PRODUTO SITE MERCADO LIVRE"
   ]
  },
  {
   "cell_type": "code",
   "execution_count": null,
   "id": "8574bb9c",
   "metadata": {},
   "outputs": [],
   "source": [
    "import requests\n",
    "from bs4 import BeautifulSoup\n",
    "from time import sleep\n",
    "import pandas as pd\n",
    "\n",
    "lista_produtos = []\n",
    "\n",
    "url_base = 'https://lista.mercadolivre.com.br/'\n",
    "\n",
    "produto_nome = input('Qual produto você deseja? ')\n",
    "\n",
    "print()\n",
    "\n",
    "response = requests.get(url_base + produto_nome)\n",
    "\n",
    "site = BeautifulSoup(response.text, 'html.parser')\n",
    "\n",
    "produtos = site.findAll('div', attrs={'class': 'andes-card andes-card--flat andes-card--default ui-search-result ui-search-result--core andes-card--padding-default'})\n",
    "\n",
    "#print(produto.prettify())\n",
    "\n",
    "for produto in produtos:\n",
    "\n",
    "    titulo = produto.find('h2', attrs={'class': 'ui-search-item__title'})\n",
    "    link = produto.find('a', attrs={'class': 'ui-search-link'})\n",
    "    real = produto.find('span', attrs={'class': 'price-tag-fraction'})\n",
    "    centavos = produto.find('span', attrs={'class': 'price-tag-cents'})\n",
    "\n",
    "    print('TITULO DO PRODUTO:', titulo.text)\n",
    "    print('LINK DO PRODUTO:', link['href'])\n",
    "    \n",
    "    if centavos:\n",
    "        print('PREÇO DO PRODUTO: R$', real.text + ',' + centavos.text)\n",
    "    else:\n",
    "        print('PREÇO DO PRODUTO: R$', real.text)\n",
    "    \n",
    "    print()\n",
    "    \n",
    "    lista_produtos.append([titulo.text, real.text + ',' + centavos.text, link['href']])\n",
    "    \n",
    "tabela = pd.DataFrame(lista_produtos, columns=['TITULO DO PRODUTO', 'PREÇO DO PRODUTO', 'LINK DO PRODUTO'])\n",
    "\n",
    "#SALVAR PLANILHA EM EXCEL\n",
    "tabela.to_excel('Tabela_vinhos.xlsx', index=False)\n",
    "display(tabela)\n"
   ]
  },
  {
   "cell_type": "code",
   "execution_count": null,
   "id": "673c6cc4",
   "metadata": {},
   "outputs": [],
   "source": []
  },
  {
   "cell_type": "code",
   "execution_count": null,
   "id": "12caa1d2",
   "metadata": {},
   "outputs": [],
   "source": []
  }
 ],
 "metadata": {
  "kernelspec": {
   "display_name": "Python 3",
   "language": "python",
   "name": "python3"
  },
  "language_info": {
   "codemirror_mode": {
    "name": "ipython",
    "version": 3
   },
   "file_extension": ".py",
   "mimetype": "text/x-python",
   "name": "python",
   "nbconvert_exporter": "python",
   "pygments_lexer": "ipython3",
   "version": "3.8.8"
  }
 },
 "nbformat": 4,
 "nbformat_minor": 5
}
